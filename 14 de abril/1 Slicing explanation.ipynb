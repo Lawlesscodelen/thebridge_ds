{
 "cells": [
  {
   "cell_type": "markdown",
   "metadata": {},
   "source": [
    "# Seleccionar filas y columnas con iloc y loc\n",
    "\n",
    "## El método iloc\n",
    "\n",
    "Se utiliza en los DataFrames para seleccionar los elementos en base a su ubicación. Su sintaxis es data.iloc [filas,columnas]\n",
    "\n",
    "En otras palabras...\n",
    "\n",
    "Iloc está basado en índices enteros. Entonces aquí, tenemos que especificar filas y columnas por su índice entero.\n",
    "\n",
    "\n",
    "Digamos que buscamos las filas con el índice 1, 2 o 200. Devolverá la primera, segunda y centésima fila, independientemente del nombre o las etiquetas que tengamos en el índice de nuestro conjunto de datos.\n",
    "\n"
   ]
  },
  {
   "cell_type": "code",
   "execution_count": null,
   "metadata": {},
   "outputs": [],
   "source": [
    "#Iloc\n",
    "#data.iloc[selección de fila, selección de columna]\n",
    "#data.iloc[0] # primera fila\n",
    "data.iloc[1] # segunda fila del dataframe\n",
    "data.iloc[-1] # última fila del dataframe\n",
    "# Columnas:\n",
    "data.iloc[:,0] # primera columna del dataframe\n",
    "data.iloc[:,1] # segunda columna del dataframe\n",
    "data.iloc[:,-1] # última columna del dataframe\n",
    "# Selección de múltiples columnas y filas \n",
    "data.iloc[0:5] # primeras cinco filas \n",
    "data.iloc[:, 0:2] # primeras dos columnas con todas las filas\n",
    "data.iloc[[0,3,6,24], [0,5,6]] # primera, cuarta, septima, 25 filas + primera sexta septima columna. \n",
    "data.iloc[0:5, 5:8] # primeras 5 filas y quinta, sexta y séptima columna del dataframe"
   ]
  },
  {
   "cell_type": "markdown",
   "metadata": {},
   "source": [
    "##  Método loc\n",
    "\n",
    "Loc está basado en etiquetas, lo que significa que tenemos que especificar el nombre de las filas y columnas que necesitamos filtrar.\n",
    "Su sintaxis también es data.iloc [filas,columnas]\n"
   ]
  },
  {
   "cell_type": "code",
   "execution_count": null,
   "metadata": {},
   "outputs": [],
   "source": [
    "# Seleccionamos con condiciones\n",
    "data.loc[(data.age >= 12) & (data.gender == 'M')]"
   ]
  },
  {
   "cell_type": "code",
   "execution_count": 2,
   "metadata": {},
   "outputs": [],
   "source": [
    "import pandas as pd"
   ]
  },
  {
   "cell_type": "code",
   "execution_count": 7,
   "metadata": {},
   "outputs": [],
   "source": [
    "df = pd.DataFrame({'Age': [40, 35, 90, 33, 43, 30, 5000],\n",
    "                   'Color': ['Red', 'Green', 'Blue', 'Black', 'Gray', 'White',\n",
    "                             'Brown'],\n",
    "                   'Strenght': ['Mechanical', 'Phyisical', 'FrozenPhysical', 'Fast', 'Arrow',\n",
    "                            'Space', 'Hammer'],\n",
    "                   'Height': [165, 70, 120, 80, 180, 172, 150],\n",
    "                   'Score': [4.6, 8.3, 9.0, 3.3, 1.8, 9.5, 2.2],\n",
    "                   'State': ['MB', 'TX', 'FL', 'AL', 'AK', 'TX', 'AG']\n",
    "                   },\n",
    "                  index=['Iron_Man', 'Hulk', 'Capitan_America', 'Romanof', 'Clint',\n",
    "                         'Capitana_Marvel', 'Thor'])"
   ]
  },
  {
   "cell_type": "code",
   "execution_count": 8,
   "metadata": {},
   "outputs": [
    {
     "data": {
      "text/html": [
       "<div>\n",
       "<style scoped>\n",
       "    .dataframe tbody tr th:only-of-type {\n",
       "        vertical-align: middle;\n",
       "    }\n",
       "\n",
       "    .dataframe tbody tr th {\n",
       "        vertical-align: top;\n",
       "    }\n",
       "\n",
       "    .dataframe thead th {\n",
       "        text-align: right;\n",
       "    }\n",
       "</style>\n",
       "<table border=\"1\" class=\"dataframe\">\n",
       "  <thead>\n",
       "    <tr style=\"text-align: right;\">\n",
       "      <th></th>\n",
       "      <th>Age</th>\n",
       "      <th>Color</th>\n",
       "      <th>Strenght</th>\n",
       "      <th>Height</th>\n",
       "      <th>Score</th>\n",
       "      <th>State</th>\n",
       "    </tr>\n",
       "  </thead>\n",
       "  <tbody>\n",
       "    <tr>\n",
       "      <th>Iron_Man</th>\n",
       "      <td>40</td>\n",
       "      <td>Red</td>\n",
       "      <td>Mechanical</td>\n",
       "      <td>165</td>\n",
       "      <td>4.6</td>\n",
       "      <td>MB</td>\n",
       "    </tr>\n",
       "    <tr>\n",
       "      <th>Hulk</th>\n",
       "      <td>35</td>\n",
       "      <td>Green</td>\n",
       "      <td>Phyisical</td>\n",
       "      <td>70</td>\n",
       "      <td>8.3</td>\n",
       "      <td>TX</td>\n",
       "    </tr>\n",
       "    <tr>\n",
       "      <th>Capitan_America</th>\n",
       "      <td>90</td>\n",
       "      <td>Blue</td>\n",
       "      <td>FrozenPhysical</td>\n",
       "      <td>120</td>\n",
       "      <td>9.0</td>\n",
       "      <td>FL</td>\n",
       "    </tr>\n",
       "    <tr>\n",
       "      <th>Romanof</th>\n",
       "      <td>33</td>\n",
       "      <td>Black</td>\n",
       "      <td>Fast</td>\n",
       "      <td>80</td>\n",
       "      <td>3.3</td>\n",
       "      <td>AL</td>\n",
       "    </tr>\n",
       "    <tr>\n",
       "      <th>Clint</th>\n",
       "      <td>43</td>\n",
       "      <td>Gray</td>\n",
       "      <td>Arrow</td>\n",
       "      <td>180</td>\n",
       "      <td>1.8</td>\n",
       "      <td>AK</td>\n",
       "    </tr>\n",
       "    <tr>\n",
       "      <th>Capitana_Marvel</th>\n",
       "      <td>30</td>\n",
       "      <td>White</td>\n",
       "      <td>Space</td>\n",
       "      <td>172</td>\n",
       "      <td>9.5</td>\n",
       "      <td>TX</td>\n",
       "    </tr>\n",
       "    <tr>\n",
       "      <th>Thor</th>\n",
       "      <td>5000</td>\n",
       "      <td>Brown</td>\n",
       "      <td>Hammer</td>\n",
       "      <td>150</td>\n",
       "      <td>2.2</td>\n",
       "      <td>AG</td>\n",
       "    </tr>\n",
       "  </tbody>\n",
       "</table>\n",
       "</div>"
      ],
      "text/plain": [
       "                  Age  Color        Strenght  Height  Score State\n",
       "Iron_Man           40    Red      Mechanical     165    4.6    MB\n",
       "Hulk               35  Green       Phyisical      70    8.3    TX\n",
       "Capitan_America    90   Blue  FrozenPhysical     120    9.0    FL\n",
       "Romanof            33  Black            Fast      80    3.3    AL\n",
       "Clint              43   Gray           Arrow     180    1.8    AK\n",
       "Capitana_Marvel    30  White           Space     172    9.5    TX\n",
       "Thor             5000  Brown          Hammer     150    2.2    AG"
      ]
     },
     "execution_count": 8,
     "metadata": {},
     "output_type": "execute_result"
    }
   ],
   "source": [
    "df"
   ]
  },
  {
   "cell_type": "code",
   "execution_count": 15,
   "metadata": {},
   "outputs": [
    {
     "data": {
      "text/html": [
       "<div>\n",
       "<style scoped>\n",
       "    .dataframe tbody tr th:only-of-type {\n",
       "        vertical-align: middle;\n",
       "    }\n",
       "\n",
       "    .dataframe tbody tr th {\n",
       "        vertical-align: top;\n",
       "    }\n",
       "\n",
       "    .dataframe thead th {\n",
       "        text-align: right;\n",
       "    }\n",
       "</style>\n",
       "<table border=\"1\" class=\"dataframe\">\n",
       "  <thead>\n",
       "    <tr style=\"text-align: right;\">\n",
       "      <th></th>\n",
       "      <th>Age</th>\n",
       "      <th>Color</th>\n",
       "    </tr>\n",
       "  </thead>\n",
       "  <tbody>\n",
       "    <tr>\n",
       "      <th>Iron_Man</th>\n",
       "      <td>40</td>\n",
       "      <td>Red</td>\n",
       "    </tr>\n",
       "    <tr>\n",
       "      <th>Hulk</th>\n",
       "      <td>35</td>\n",
       "      <td>Green</td>\n",
       "    </tr>\n",
       "    <tr>\n",
       "      <th>Capitan_America</th>\n",
       "      <td>90</td>\n",
       "      <td>Blue</td>\n",
       "    </tr>\n",
       "    <tr>\n",
       "      <th>Romanof</th>\n",
       "      <td>33</td>\n",
       "      <td>Black</td>\n",
       "    </tr>\n",
       "    <tr>\n",
       "      <th>Clint</th>\n",
       "      <td>43</td>\n",
       "      <td>Gray</td>\n",
       "    </tr>\n",
       "    <tr>\n",
       "      <th>Capitana_Marvel</th>\n",
       "      <td>30</td>\n",
       "      <td>White</td>\n",
       "    </tr>\n",
       "    <tr>\n",
       "      <th>Thor</th>\n",
       "      <td>5000</td>\n",
       "      <td>Brown</td>\n",
       "    </tr>\n",
       "  </tbody>\n",
       "</table>\n",
       "</div>"
      ],
      "text/plain": [
       "                  Age  Color\n",
       "Iron_Man           40    Red\n",
       "Hulk               35  Green\n",
       "Capitan_America    90   Blue\n",
       "Romanof            33  Black\n",
       "Clint              43   Gray\n",
       "Capitana_Marvel    30  White\n",
       "Thor             5000  Brown"
      ]
     },
     "execution_count": 15,
     "metadata": {},
     "output_type": "execute_result"
    }
   ],
   "source": [
    "df.iloc[:,0:2]"
   ]
  },
  {
   "cell_type": "code",
   "execution_count": 10,
   "metadata": {},
   "outputs": [
    {
     "name": "stdout",
     "output_type": "stream",
     "text": [
      "                 Color  Height\n",
      "Hulk             Green      70\n",
      "Romanof          Black      80\n",
      "Capitana_Marvel  White     172\n"
     ]
    }
   ],
   "source": [
    "print(df.loc[df['Age'] < 40, ['Color', 'Height']])"
   ]
  },
  {
   "cell_type": "code",
   "execution_count": 16,
   "metadata": {},
   "outputs": [
    {
     "name": "stdout",
     "output_type": "stream",
     "text": [
      "       Age Color Strenght  Height  Score State\n",
      "Clint   43  Gray    Arrow     180    1.8    AK\n"
     ]
    }
   ],
   "source": [
    "print(df.loc[(df['Strenght']=='Arrow'),: ])"
   ]
  },
  {
   "cell_type": "code",
   "execution_count": 18,
   "metadata": {},
   "outputs": [
    {
     "data": {
      "text/plain": [
       "Age                     90\n",
       "Color                 Blue\n",
       "Strenght    FrozenPhysical\n",
       "Height                 120\n",
       "Score                    9\n",
       "State                   FL\n",
       "Name: Capitan_America, dtype: object"
      ]
     },
     "execution_count": 18,
     "metadata": {},
     "output_type": "execute_result"
    }
   ],
   "source": [
    "df.iloc[2,:]"
   ]
  },
  {
   "cell_type": "code",
   "execution_count": 19,
   "metadata": {},
   "outputs": [
    {
     "data": {
      "text/plain": [
       "Iron_Man           165\n",
       "Hulk                70\n",
       "Capitan_America    120\n",
       "Romanof             80\n",
       "Clint              180\n",
       "Capitana_Marvel    172\n",
       "Thor               150\n",
       "Name: Height, dtype: int64"
      ]
     },
     "execution_count": 19,
     "metadata": {},
     "output_type": "execute_result"
    }
   ],
   "source": [
    "df.iloc[:,3]"
   ]
  },
  {
   "cell_type": "code",
   "execution_count": null,
   "metadata": {},
   "outputs": [],
   "source": []
  }
 ],
 "metadata": {
  "kernelspec": {
   "display_name": "Python 3",
   "language": "python",
   "name": "python3"
  },
  "language_info": {
   "codemirror_mode": {
    "name": "ipython",
    "version": 3
   },
   "file_extension": ".py",
   "mimetype": "text/x-python",
   "name": "python",
   "nbconvert_exporter": "python",
   "pygments_lexer": "ipython3",
   "version": "3.7.6"
  }
 },
 "nbformat": 4,
 "nbformat_minor": 4
}
